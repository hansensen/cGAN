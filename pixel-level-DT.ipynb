{
 "cells": [
  {
   "cell_type": "code",
   "execution_count": 1,
   "metadata": {},
   "outputs": [],
   "source": [
    "import six.moves.cPickle as Pickle\n",
    "import cv2\n",
    "import numpy as np"
   ]
  },
  {
   "cell_type": "code",
   "execution_count": 2,
   "metadata": {},
   "outputs": [],
   "source": [
    "def loadImage(path):\n",
    "    inImage_ = cv2.imread(path)\n",
    "    inImage = cv2.cvtColor(inImage_, cv2.COLOR_RGB2BGR)\n",
    "    info = np.iinfo(inImage.dtype)\n",
    "    inImage = inImage.astype(np.float) / info.max\n",
    "\n",
    "    iw = inImage.shape[1]\n",
    "    ih = inImage.shape[0]\n",
    "    if iw < ih:\n",
    "        inImage = cv2.resize(inImage, (64, int(64 * ih/iw)))\n",
    "    else:\n",
    "        inImage = cv2.resize(inImage, (int(64 * iw / ih), 64))\n",
    "    inImage = inImage[0:64, 0:64]\n",
    "    return th.from_numpy(2 * inImage - 1).transpose(0, 2).transpose(\n",
    "        1, 2\n",
    "    )"
   ]
  },
  {
   "cell_type": "code",
   "execution_count": null,
   "metadata": {},
   "outputs": [],
   "source": []
  },
  {
   "cell_type": "code",
   "execution_count": 3,
   "metadata": {},
   "outputs": [],
   "source": [
    "class LookbookDataset():\n",
    "    def __init__(self, data_dir, index_dir):\n",
    "        self.data_dir = data_dir\n",
    "        with open(index_dir+'cloth_table.pkl', 'rb') as cloth:\n",
    "            self.cloth_table = Pickle.load(cloth)\n",
    "        with open(index_dir+'model_table.pkl', 'rb') as model:\n",
    "            self.model_table = Pickle.load(model)\n",
    "\n",
    "        self.cn = len(self.cloth_table)\n",
    "        self.path = data_dir\n",
    "\n",
    "    def getbatch(self, batchsize):\n",
    "        batch1 = []\n",
    "        batch2 = []\n",
    "        batch3 = []\n",
    "        for i in range(batchsize):\n",
    "            seed = th.randint(1, 100000, (1,)).item()\n",
    "            th.manual_seed((i+1)*seed)\n",
    "            r1 = th.randint(0, self.cn, (1,)).item()\n",
    "            r2 = th.randint(0, self.cn, (1,)).item()\n",
    "            r1 = int(r1)\n",
    "            r2 = int(r2)\n",
    "            mn = len(self.model_table[r1])\n",
    "            r3 = th.randint(0, mn, (1,)).item()\n",
    "            r3 = int(r3)\n",
    "\n",
    "            path1 = self.cloth_table[r1]\n",
    "            path2 = self.cloth_table[r2]\n",
    "            path3 = self.model_table[r1][r3]\n",
    "            img1 = loadImage(self.path + path1)\n",
    "            img2 = loadImage(self.path + path2)\n",
    "            img3 = loadImage(self.path + path3)\n",
    "            batch1.append(img1)\n",
    "            batch2.append(img2)\n",
    "            batch3.append(img3)\n",
    "        return th.stack(batch1), th.stack(batch2), th.stack(batch3)"
   ]
  },
  {
   "cell_type": "code",
   "execution_count": 32,
   "metadata": {},
   "outputs": [],
   "source": [
    "img_size=32"
   ]
  },
  {
   "cell_type": "code",
   "execution_count": 78,
   "metadata": {},
   "outputs": [],
   "source": [
    "from keras.models import Sequential\n",
    "from keras.layers import Dense, Conv2D, LeakyReLU, Conv2DTranspose, BatchNormalization, ReLU, Activation\n",
    "from keras import backend as K"
   ]
  },
  {
   "cell_type": "code",
   "execution_count": 85,
   "metadata": {},
   "outputs": [],
   "source": [
    "class NetG():\n",
    "    def __init__(self, nc=3, ngf=96):\n",
    "        super(NetG, self).__init__()\n",
    "        model=Sequential()\n",
    "        model.add(Conv2D(ngf, input_shape=(img_size, img_size, 1), kernel_size=4, strides=2, padding=1, bias=False))\n",
    "        model.add(LeakyReLU(0.2))\n",
    "        \n",
    "        model.add(Conv2D(ngf*2, kernel_size=4, strides=2, padding=1, bias=False))\n",
    "        model.add(BatchNormalization())\n",
    "        model.add(LeakyReLU(0.2))\n",
    "        \n",
    "        model.add(Conv2D(ngf*4, kernel_size=4, strides=2, padding=1, bias=False))\n",
    "        model.add(BatchNormalization())\n",
    "        model.add(LeakyReLU(0.2))\n",
    "        \n",
    "        model.add(Conv2D(ngf*8, kernel_size=4, strides=2, padding=1, bias=False))\n",
    "        model.add(BatchNormalization())\n",
    "        model.add(LeakyReLU(0.2))\n",
    "        \n",
    "        model.add(Conv2DTranspose(ngf*4, kernel_size=4, strides=2, padding=1, bias=False))\n",
    "        model.add(BatchNormalization())\n",
    "        model.add(ReLU())\n",
    "        \n",
    "        model.add(Conv2DTranspose(ngf*2, kernel_size=4, strides=2, padding=1, bias=False))\n",
    "        model.add(BatchNormalization())\n",
    "        model.add(ReLU())\n",
    "        \n",
    "        model.add(Conv2DTranspose(ngf, kernel_size=4, strides=2, padding=1, bias=False))\n",
    "        model.add(BatchNormalization())\n",
    "        model.add(ReLU())\n",
    "        \n",
    "        model.add(Conv2DTranspose(nc, kernel_size=4, strides=2, padding=1, bias=False))\n",
    "        model.add(BatchNormalization())\n",
    "        model.add(ReLU())\n",
    "        \n",
    "        model.add(Activation('tanh'))\n",
    "        self.model=model"
   ]
  },
  {
   "cell_type": "code",
   "execution_count": 92,
   "metadata": {},
   "outputs": [],
   "source": [
    "class NetD(nn.Module):\n",
    "    def __init__(self, nc=3, ndf=96):\n",
    "        super(NetD, self).__init__()\n",
    "        \n",
    "        model = Sequential()\n",
    "        model.add(Conv2D(ndf, input_shape=(32, 32, 1), kernel_size=4, strides=2, padding=\"same\", use_bias=False))\n",
    "        model.add(LeakyReLU(0.2))\n",
    "        \n",
    "        model.add(Conv2D(ndf*2, kernel_size=4, strides=2, padding=\"same\", use_bias=False))\n",
    "        model.add(BatchNormalization())\n",
    "        model.add(LeakyReLU(0.2))\n",
    "        \n",
    "        model.add(Conv2D(ndf*4, kernel_size=4, strides=2, padding=\"same\", use_bias=False))\n",
    "        model.add(BatchNormalization())\n",
    "        model.add(LeakyReLU(0.2))\n",
    "        \n",
    "        model.add(Conv2D(ndf*8, kernel_size=4, strides=2, padding=\"same\", use_bias=False))\n",
    "        model.add(BatchNormalization())\n",
    "        model.add(LeakyReLU(0.2))\n",
    "        \n",
    "        model.add(Conv2D(ndf*2, kernel_size=4, strides=2, padding=\"same\", use_bias=False))\n",
    "        model.add(BatchNormalization())\n",
    "        model.add(LeakyReLU(0.2))\n",
    "        \n",
    "        model.add(Conv2D(1, kernel_size=4, strides=2, padding=\"same\", use_bias=False))\n",
    "        \n",
    "        model.add(Activation('sigmoid'))\n",
    "        self.model=model"
   ]
  },
  {
   "cell_type": "code",
   "execution_count": 93,
   "metadata": {},
   "outputs": [],
   "source": [
    "class NetA(nn.Module):\n",
    "    def __init__(self, nc=3, ndf=96):\n",
    "        super(NetA, self).__init__()\n",
    "        \n",
    "        model=Sequential()\n",
    "        model.add(Conv2D(ndf, input_shape=(img_size, img_size, 1), kernel_size=4, stride=2, padding=1, bias=False))\n",
    "        model.add(LeakyReLU(0.2))\n",
    "        \n",
    "        model.add(Conv2D(ndf*2, kernel_size=4, stride=2, padding=1, bias=False))\n",
    "        model.add(BatchNormalization())\n",
    "        model.add(LeakyReLU(0.2))\n",
    "        \n",
    "        model.add(Conv2D(ndf*4, kernel_size=4, stride=2, padding=1, bias=False))\n",
    "        model.add(BatchNormalization())\n",
    "        model.add(LeakyReLU(0.2))\n",
    "        \n",
    "        model.add(Conv2D(ndf*8, kernel_size=4, stride=2, padding=1, bias=False))\n",
    "        model.add(BatchNormalization())\n",
    "        model.add(LeakyReLU(0.2))\n",
    "        \n",
    "        model.add(Conv2D(1, kernel_size=4, stride=4, bias=False))\n",
    "        model.add(Activation='sigmoid')\n"
   ]
  },
  {
   "cell_type": "code",
   "execution_count": 94,
   "metadata": {},
   "outputs": [],
   "source": [
    "netd = NetD()\n",
    "a = K.zeros(shape=(128, 3, 64, 64))\n",
    "# b = netd()\n",
    "# print(b.shape)"
   ]
  }
 ],
 "metadata": {
  "kernelspec": {
   "display_name": "Python 3",
   "language": "python",
   "name": "python3"
  },
  "language_info": {
   "codemirror_mode": {
    "name": "ipython",
    "version": 3
   },
   "file_extension": ".py",
   "mimetype": "text/x-python",
   "name": "python",
   "nbconvert_exporter": "python",
   "pygments_lexer": "ipython3",
   "version": "3.7.5"
  }
 },
 "nbformat": 4,
 "nbformat_minor": 4
}
